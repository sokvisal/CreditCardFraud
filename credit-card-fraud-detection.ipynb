{
 "cells": [
  {
   "cell_type": "markdown",
   "id": "edbeb7cb",
   "metadata": {},
   "source": [
    "## Using machine learning to detect credit card fraud\n",
    "\n",
    "\n",
    "### Introduction\n",
    "\n",
    "The aim of this project is to train a machine learning model to detect fraudulent \n",
    "credit card transactions. Building a robust models is important for protecting customers\n",
    "from purchases they did not make.\n",
    "\n",
    "### About the data\n",
    "\n",
    "The dataset is credited to the Machine Learning Group and Andrea Dal Pozzolo. As seen below, \n",
    "the CSV file contains a number of anomynous variables (V1,V2,...), along with **Time** and **Amount**.\n"
   ]
  },
  {
   "cell_type": "code",
   "execution_count": 1,
   "id": "fb4d4b4d",
   "metadata": {},
   "outputs": [
    {
     "name": "stdout",
     "output_type": "stream",
     "text": [
      "(284807, 31)\n"
     ]
    },
    {
     "data": {
      "text/html": [
       "<div>\n",
       "<style scoped>\n",
       "    .dataframe tbody tr th:only-of-type {\n",
       "        vertical-align: middle;\n",
       "    }\n",
       "\n",
       "    .dataframe tbody tr th {\n",
       "        vertical-align: top;\n",
       "    }\n",
       "\n",
       "    .dataframe thead th {\n",
       "        text-align: right;\n",
       "    }\n",
       "</style>\n",
       "<table border=\"1\" class=\"dataframe\">\n",
       "  <thead>\n",
       "    <tr style=\"text-align: right;\">\n",
       "      <th></th>\n",
       "      <th>Time</th>\n",
       "      <th>V1</th>\n",
       "      <th>V2</th>\n",
       "      <th>V3</th>\n",
       "      <th>V4</th>\n",
       "      <th>V5</th>\n",
       "      <th>V6</th>\n",
       "      <th>V7</th>\n",
       "      <th>V8</th>\n",
       "      <th>V9</th>\n",
       "      <th>...</th>\n",
       "      <th>V21</th>\n",
       "      <th>V22</th>\n",
       "      <th>V23</th>\n",
       "      <th>V24</th>\n",
       "      <th>V25</th>\n",
       "      <th>V26</th>\n",
       "      <th>V27</th>\n",
       "      <th>V28</th>\n",
       "      <th>Amount</th>\n",
       "      <th>Class</th>\n",
       "    </tr>\n",
       "  </thead>\n",
       "  <tbody>\n",
       "    <tr>\n",
       "      <th>0</th>\n",
       "      <td>0.0</td>\n",
       "      <td>-1.359807</td>\n",
       "      <td>-0.072781</td>\n",
       "      <td>2.536347</td>\n",
       "      <td>1.378155</td>\n",
       "      <td>-0.338321</td>\n",
       "      <td>0.462388</td>\n",
       "      <td>0.239599</td>\n",
       "      <td>0.098698</td>\n",
       "      <td>0.363787</td>\n",
       "      <td>...</td>\n",
       "      <td>-0.018307</td>\n",
       "      <td>0.277838</td>\n",
       "      <td>-0.110474</td>\n",
       "      <td>0.066928</td>\n",
       "      <td>0.128539</td>\n",
       "      <td>-0.189115</td>\n",
       "      <td>0.133558</td>\n",
       "      <td>-0.021053</td>\n",
       "      <td>149.62</td>\n",
       "      <td>0</td>\n",
       "    </tr>\n",
       "    <tr>\n",
       "      <th>1</th>\n",
       "      <td>0.0</td>\n",
       "      <td>1.191857</td>\n",
       "      <td>0.266151</td>\n",
       "      <td>0.166480</td>\n",
       "      <td>0.448154</td>\n",
       "      <td>0.060018</td>\n",
       "      <td>-0.082361</td>\n",
       "      <td>-0.078803</td>\n",
       "      <td>0.085102</td>\n",
       "      <td>-0.255425</td>\n",
       "      <td>...</td>\n",
       "      <td>-0.225775</td>\n",
       "      <td>-0.638672</td>\n",
       "      <td>0.101288</td>\n",
       "      <td>-0.339846</td>\n",
       "      <td>0.167170</td>\n",
       "      <td>0.125895</td>\n",
       "      <td>-0.008983</td>\n",
       "      <td>0.014724</td>\n",
       "      <td>2.69</td>\n",
       "      <td>0</td>\n",
       "    </tr>\n",
       "    <tr>\n",
       "      <th>2</th>\n",
       "      <td>1.0</td>\n",
       "      <td>-1.358354</td>\n",
       "      <td>-1.340163</td>\n",
       "      <td>1.773209</td>\n",
       "      <td>0.379780</td>\n",
       "      <td>-0.503198</td>\n",
       "      <td>1.800499</td>\n",
       "      <td>0.791461</td>\n",
       "      <td>0.247676</td>\n",
       "      <td>-1.514654</td>\n",
       "      <td>...</td>\n",
       "      <td>0.247998</td>\n",
       "      <td>0.771679</td>\n",
       "      <td>0.909412</td>\n",
       "      <td>-0.689281</td>\n",
       "      <td>-0.327642</td>\n",
       "      <td>-0.139097</td>\n",
       "      <td>-0.055353</td>\n",
       "      <td>-0.059752</td>\n",
       "      <td>378.66</td>\n",
       "      <td>0</td>\n",
       "    </tr>\n",
       "    <tr>\n",
       "      <th>3</th>\n",
       "      <td>1.0</td>\n",
       "      <td>-0.966272</td>\n",
       "      <td>-0.185226</td>\n",
       "      <td>1.792993</td>\n",
       "      <td>-0.863291</td>\n",
       "      <td>-0.010309</td>\n",
       "      <td>1.247203</td>\n",
       "      <td>0.237609</td>\n",
       "      <td>0.377436</td>\n",
       "      <td>-1.387024</td>\n",
       "      <td>...</td>\n",
       "      <td>-0.108300</td>\n",
       "      <td>0.005274</td>\n",
       "      <td>-0.190321</td>\n",
       "      <td>-1.175575</td>\n",
       "      <td>0.647376</td>\n",
       "      <td>-0.221929</td>\n",
       "      <td>0.062723</td>\n",
       "      <td>0.061458</td>\n",
       "      <td>123.50</td>\n",
       "      <td>0</td>\n",
       "    </tr>\n",
       "    <tr>\n",
       "      <th>4</th>\n",
       "      <td>2.0</td>\n",
       "      <td>-1.158233</td>\n",
       "      <td>0.877737</td>\n",
       "      <td>1.548718</td>\n",
       "      <td>0.403034</td>\n",
       "      <td>-0.407193</td>\n",
       "      <td>0.095921</td>\n",
       "      <td>0.592941</td>\n",
       "      <td>-0.270533</td>\n",
       "      <td>0.817739</td>\n",
       "      <td>...</td>\n",
       "      <td>-0.009431</td>\n",
       "      <td>0.798278</td>\n",
       "      <td>-0.137458</td>\n",
       "      <td>0.141267</td>\n",
       "      <td>-0.206010</td>\n",
       "      <td>0.502292</td>\n",
       "      <td>0.219422</td>\n",
       "      <td>0.215153</td>\n",
       "      <td>69.99</td>\n",
       "      <td>0</td>\n",
       "    </tr>\n",
       "  </tbody>\n",
       "</table>\n",
       "<p>5 rows × 31 columns</p>\n",
       "</div>"
      ],
      "text/plain": [
       "   Time        V1        V2        V3        V4        V5        V6        V7  \\\n",
       "0   0.0 -1.359807 -0.072781  2.536347  1.378155 -0.338321  0.462388  0.239599   \n",
       "1   0.0  1.191857  0.266151  0.166480  0.448154  0.060018 -0.082361 -0.078803   \n",
       "2   1.0 -1.358354 -1.340163  1.773209  0.379780 -0.503198  1.800499  0.791461   \n",
       "3   1.0 -0.966272 -0.185226  1.792993 -0.863291 -0.010309  1.247203  0.237609   \n",
       "4   2.0 -1.158233  0.877737  1.548718  0.403034 -0.407193  0.095921  0.592941   \n",
       "\n",
       "         V8        V9  ...       V21       V22       V23       V24       V25  \\\n",
       "0  0.098698  0.363787  ... -0.018307  0.277838 -0.110474  0.066928  0.128539   \n",
       "1  0.085102 -0.255425  ... -0.225775 -0.638672  0.101288 -0.339846  0.167170   \n",
       "2  0.247676 -1.514654  ...  0.247998  0.771679  0.909412 -0.689281 -0.327642   \n",
       "3  0.377436 -1.387024  ... -0.108300  0.005274 -0.190321 -1.175575  0.647376   \n",
       "4 -0.270533  0.817739  ... -0.009431  0.798278 -0.137458  0.141267 -0.206010   \n",
       "\n",
       "        V26       V27       V28  Amount  Class  \n",
       "0 -0.189115  0.133558 -0.021053  149.62      0  \n",
       "1  0.125895 -0.008983  0.014724    2.69      0  \n",
       "2 -0.139097 -0.055353 -0.059752  378.66      0  \n",
       "3 -0.221929  0.062723  0.061458  123.50      0  \n",
       "4  0.502292  0.219422  0.215153   69.99      0  \n",
       "\n",
       "[5 rows x 31 columns]"
      ]
     },
     "execution_count": 1,
     "metadata": {},
     "output_type": "execute_result"
    }
   ],
   "source": [
    "import numpy as np\n",
    "import pandas as pd\n",
    "import matplotlib.pyplot as plt\n",
    "\n",
    "df = pd.read_csv('./creditcard.csv')\n",
    "# total transaction\n",
    "total_trans = df.shape[0]\n",
    "\n",
    "print(df.shape)\n",
    "df.head()"
   ]
  },
  {
   "cell_type": "markdown",
   "id": "2af4c0eb",
   "metadata": {},
   "source": [
    "Here, the label for the dataset is found in the **Class** column (where fraudulent transactions have class=1). The features are **Time**, **Amount**, **V1**, **V2** and so on. These features are principal components of some variables obtained from PCA. \n",
    "We don't know what the original variables for these PCA are, as those data are confidential. But we have two known variables, which are **Time** and **Amount**.\n",
    "\n",
    "Essentially, the idea here is that a combination of these features will indicate whether a particular transaction\n",
    "is a fraudulent or not. We can use a supervised learning algorithms as the labels have already been defined. If the labels are not given, we can try to use PCA + K mean clustering to create labels (i.e. identify a subset of suspicious \n",
    "transactions) for the dataset."
   ]
  },
  {
   "cell_type": "markdown",
   "id": "62a49fee",
   "metadata": {},
   "source": [
    "### Data Cleaning\n",
    "\n",
    "There are a couple of things we want to do there. \n",
    "\n",
    "**FIRST:** The **Time** column isn't that useful for machine learning models, as it appears to just be increasing with each transaction row. So essentially we can just remove this column.\n",
    "\n",
    "**SECOND:** Looking at the **Amount** column, the values have a wide range, which means that the model might take\n",
    "a long time to converge to a solution. If we normalize this column, it will help the model train faster.\n",
    "\n",
    "**THIRD:** We need to check to see if there are any null in the dataset and remove any duplicate data.\n"
   ]
  },
  {
   "cell_type": "code",
   "execution_count": 2,
   "id": "e3ceb4d4",
   "metadata": {},
   "outputs": [
    {
     "name": "stdout",
     "output_type": "stream",
     "text": [
      "<class 'pandas.core.frame.DataFrame'>\n",
      "RangeIndex: 284807 entries, 0 to 284806\n",
      "Data columns (total 30 columns):\n",
      " #   Column  Non-Null Count   Dtype  \n",
      "---  ------  --------------   -----  \n",
      " 0   V1      284807 non-null  float64\n",
      " 1   V2      284807 non-null  float64\n",
      " 2   V3      284807 non-null  float64\n",
      " 3   V4      284807 non-null  float64\n",
      " 4   V5      284807 non-null  float64\n",
      " 5   V6      284807 non-null  float64\n",
      " 6   V7      284807 non-null  float64\n",
      " 7   V8      284807 non-null  float64\n",
      " 8   V9      284807 non-null  float64\n",
      " 9   V10     284807 non-null  float64\n",
      " 10  V11     284807 non-null  float64\n",
      " 11  V12     284807 non-null  float64\n",
      " 12  V13     284807 non-null  float64\n",
      " 13  V14     284807 non-null  float64\n",
      " 14  V15     284807 non-null  float64\n",
      " 15  V16     284807 non-null  float64\n",
      " 16  V17     284807 non-null  float64\n",
      " 17  V18     284807 non-null  float64\n",
      " 18  V19     284807 non-null  float64\n",
      " 19  V20     284807 non-null  float64\n",
      " 20  V21     284807 non-null  float64\n",
      " 21  V22     284807 non-null  float64\n",
      " 22  V23     284807 non-null  float64\n",
      " 23  V24     284807 non-null  float64\n",
      " 24  V25     284807 non-null  float64\n",
      " 25  V26     284807 non-null  float64\n",
      " 26  V27     284807 non-null  float64\n",
      " 27  V28     284807 non-null  float64\n",
      " 28  Amount  284807 non-null  float64\n",
      " 29  Class   284807 non-null  int64  \n",
      "dtypes: float64(29), int64(1)\n",
      "memory usage: 65.2 MB\n",
      "None\n"
     ]
    }
   ],
   "source": [
    "\n",
    "from sklearn.preprocessing import StandardScaler\n",
    "\n",
    "\n",
    "################# drop Time column #####################\n",
    "try:\n",
    "    df.drop(labels=['Time'], axis=1, inplace=True)\n",
    "except:\n",
    "    print ('Time column has already been removed')\n",
    "\n",
    "    \n",
    "########### normalize the Amount column ###############\n",
    "\n",
    "# create a 2d array of the amounts\n",
    "amounts = df.Amount.values[:, np.newaxis]\n",
    "# scale the data so that the mean = 0 and sigma = 1\n",
    "scaler = StandardScaler()\n",
    "scaled_amounts = scaler.fit_transform(amounts)\n",
    "\n",
    "df['Amount'] = scaled_amounts\n",
    "\n",
    "\n",
    "########### remove NANs and duplicates ###############\n",
    "\n",
    "# see if there is any null values in each column\n",
    "print ( df.info() ) # this shows that there are no null values\n",
    "\n",
    "# drop duplications (by default this code checks for duplicated values across all columns)\n",
    "df.drop_duplicates(inplace=True)\n"
   ]
  },
  {
   "cell_type": "code",
   "execution_count": 3,
   "id": "7ec7165f",
   "metadata": {
    "scrolled": false
   },
   "outputs": [
    {
     "name": "stdout",
     "output_type": "stream",
     "text": [
      "The number of duplicated values is 9144\n",
      "The total number of (non-dupl) transactions are: 275663\n",
      "The number of fraudulent transactions are: 473\n",
      "The number of non-fraud transactions are: 275190\n"
     ]
    }
   ],
   "source": [
    "print ('The number of duplicated values is {}'.format( total_trans-df.shape[0]))\n",
    "\n",
    "print ('The total number of (non-dupl) transactions are: {}'.format( df.shape[0] ) )\n",
    "print ('The number of fraudulent transactions are: {}'.format( len(df[df.Class==1]) ) )\n",
    "print ('The number of non-fraud transactions are: {}'.format( len(df[df.Class==0]) ))"
   ]
  },
  {
   "cell_type": "markdown",
   "id": "30d1a90d",
   "metadata": {},
   "source": [
    "We have removed around 9000 duplicated transactions. After this, only a small number of transactions are fraudalent.\n",
    "\n",
    "\n",
    "### Training the model\n",
    "\n",
    "To begin, we want to separate dataset into a training set and a testing set."
   ]
  },
  {
   "cell_type": "code",
   "execution_count": 4,
   "id": "485038e3",
   "metadata": {},
   "outputs": [
    {
     "name": "stdout",
     "output_type": "stream",
     "text": [
      "(206747,)\n"
     ]
    }
   ],
   "source": [
    "from sklearn.model_selection import train_test_split\n",
    "\n",
    "# defining the feature columns and the label columns\n",
    "feat = df.drop('Class', axis = 1).values\n",
    "labels = df['Class'].values\n",
    "\n",
    "# separating the data into a training set and a testing set (0.25 of the total data)\n",
    "feat_train, feat_test, labels_train, labels_test = train_test_split(feat, labels, random_state=0)\n",
    "\n",
    "print (labels_train.shape)"
   ]
  },
  {
   "cell_type": "markdown",
   "id": "78b9b157",
   "metadata": {},
   "source": [
    "Picking the right model to train the dataset on is always difficult, and sometimes it would just fall down to the interpretability of the model and how well it can predict correct labels.\n",
    "\n",
    "In this particular example, the generalized idea here is that a set of features (i.e., Amount, V1, V2 ...) will tell us whether a transaction is fraud or not. If we use a Decision Tree Classifier model, the idea here is that a structured branch is made based on the features so that the model can transverse it to figure out whether subsets of the features correspond to the fraud/non-fraud class.\n",
    "\n",
    "So let's use the  from sklearn, and test how well the model did."
   ]
  },
  {
   "cell_type": "code",
   "execution_count": 5,
   "id": "6e5da984",
   "metadata": {},
   "outputs": [],
   "source": [
    "from sklearn.tree import DecisionTreeClassifier\n",
    "clf = DecisionTreeClassifier(random_state=0)\n",
    "clf = clf.fit(feat_train,labels_train)\n",
    "\n",
    "labels_pred = clf.predict(feat_test)"
   ]
  },
  {
   "cell_type": "markdown",
   "id": "7acb95c7",
   "metadata": {},
   "source": [
    "### Testing model's accuracy\n",
    "\n",
    "A good way to gauge how well the model can classify fraudulent transactions from the testing set is to create the confusion matrix. Essentially, the diagonal of the matrix will tell you how much correct labels the model made, while the off diagonal tells you the number of false negative and false positives.\n",
    "\n",
    "However, what we are interested in is the number of credit card fraudulent cases which are mislabeled by the model. If a lot of fraud cases are falsely labeled as non-fraud, it would indicate that then the model is not effective at all.\n"
   ]
  },
  {
   "cell_type": "code",
   "execution_count": 8,
   "id": "38b07a90",
   "metadata": {},
   "outputs": [
    {
     "name": "stdout",
     "output_type": "stream",
     "text": [
      "68772 28 29 87\n"
     ]
    },
    {
     "data": {
      "image/png": "[encoded data removed]",
      "text/plain": [
       "<Figure size 432x288 with 2 Axes>"
      ]
     },
     "metadata": {
      "needs_background": "light"
     },
     "output_type": "display_data"
    },
    {
     "name": "stdout",
     "output_type": "stream",
     "text": [
      "The total number of fraudulent transactions are: 116\n",
      "The number of fraudulent transactions which are falsely labeled are: 29\n",
      "The percentage of fraudulent transactions which are correctly labeled are: 0.75\n"
     ]
    }
   ],
   "source": [
    "from sklearn.metrics import confusion_matrix, ConfusionMatrixDisplay,\\\n",
    "                            f1_score, precision_score, recall_score\n",
    "\n",
    "# confusion matrix\n",
    "cm = confusion_matrix(labels_test, labels_pred)\n",
    "tn, fp, fn, tp = cm.ravel()\n",
    "\n",
    "print (tn, fp, fn, tp)\n",
    "\n",
    "cmd_obj = ConfusionMatrixDisplay(cm, display_labels=['Not Fraud', 'Fraud'])\n",
    "cmd_obj.plot()\n",
    "plt.show()\n",
    "\n",
    "\n",
    "print ('The total number of fraudulent transactions are: {}'.format( fn+tp  ))\n",
    "print ('The number of fraudulent transactions which are falsely labeled are: {}'.format( fn ))\n",
    "# this measurement is basically the recall\n",
    "print ('The percentage of fraudulent transactions which are correctly labeled are: {:.2f}'.format( tp/(fn+tp) ))"
   ]
  },
  {
   "cell_type": "markdown",
   "id": "3509e657",
   "metadata": {},
   "source": [
    "As you can see, **only 75%** of fraud transactions are correctly predicted by the model, which is an okay number. This measurement is known as the recall score.\n",
    "\n",
    "Another metric that we might be interested in is the number of true fraudulent cases in relation to the total \n",
    "number of predicted fraudulent case (i.e. precision score), as it can let us gauge at how many fraud transactions are correctly labeled out of all the fraud cases detected by the model. \n",
    "\n",
    "We can also use the f1-score, which is the weighted average of precision and recall."
   ]
  },
  {
   "cell_type": "code",
   "execution_count": 12,
   "id": "469ecdc0",
   "metadata": {},
   "outputs": [
    {
     "name": "stdout",
     "output_type": "stream",
     "text": [
      "Recall: 0.75\n",
      "Precision: 0.76\n",
      "F1-score: 0.75\n"
     ]
    }
   ],
   "source": [
    "print(\"Recall: {:.2f}\".format( recall_score(labels_test, labels_pred)) )\n",
    "print(\"Precision: {:.2f}\".format( precision_score(labels_test, labels_pred)) )\n",
    "print(\"F1-score: {:.2f}\".format( f1_score(labels_test, labels_pred) ))"
   ]
  },
  {
   "cell_type": "markdown",
   "id": "f256540d",
   "metadata": {},
   "source": [
    "### Random Forest Classifier\n",
    "\n",
    "While using the Decision Tree model, only a single decision \"tree\" is made, which may not be sufficient to make an effective model. However, we can push this tree model idea a bit further by using a Random Forest Classifier model. The idea is similar, but instead of making one decisison tree, the Random Forest Classifier model creates multiple trees for random subsets of the dataset and then average them to improve on the predictive accurary.\n",
    "\n",
    "We can train the model to see how well it compares to the Decision Tree model. "
   ]
  },
  {
   "cell_type": "code",
   "execution_count": 13,
   "id": "1a5a80cd",
   "metadata": {},
   "outputs": [],
   "source": [
    "from sklearn.ensemble import RandomForestClassifier\n",
    "\n",
    "clf = RandomForestClassifier(random_state=0)\n",
    "clf = clf.fit(feat_train,labels_train)\n",
    "\n",
    "labels_pred = clf.predict(feat_test)"
   ]
  },
  {
   "cell_type": "code",
   "execution_count": 14,
   "id": "34808840",
   "metadata": {},
   "outputs": [
    {
     "name": "stdout",
     "output_type": "stream",
     "text": [
      "68796 4 29 87\n"
     ]
    },
    {
     "data": {
      "image/png": "[encoded data removed]",
      "text/plain": [
       "<Figure size 432x288 with 2 Axes>"
      ]
     },
     "metadata": {
      "needs_background": "light"
     },
     "output_type": "display_data"
    },
    {
     "name": "stdout",
     "output_type": "stream",
     "text": [
      "Recall: 0.75\n",
      "Precision: 0.96\n",
      "F1-score: 0.84\n"
     ]
    }
   ],
   "source": [
    "# confusion matrix\n",
    "cm = confusion_matrix(labels_test, labels_pred)\n",
    "\n",
    "# display confusion matrix\n",
    "cmd_obj = ConfusionMatrixDisplay(cm, display_labels=['Not Fraud', 'Fraud'])\n",
    "cmd_obj.plot()\n",
    "plt.show()\n",
    "\n",
    "# print metrics\n",
    "print(\"Recall: {:.2f}\".format( recall_score(labels_test, labels_pred)) )\n",
    "print(\"Precision: {:.2f}\".format( precision_score(labels_test, labels_pred)) )\n",
    "print(\"F1-score: {:.2f}\".format( f1_score(labels_test, labels_pred) ))"
   ]
  },
  {
   "cell_type": "markdown",
   "id": "5fb675dd",
   "metadata": {},
   "source": [
    "So we can see that we have improved the precision of the model by quite a lot. This means that we are less likely to flag non-fraud transactions as fraudulent and keep customers happy. However, the model still can't predict fraudulent transactions effectively (i.e. the recall score) - only three quarters of fraud transactions are correctly identified. \n",
    "\n",
    "This issue could be related to an **imbalanced in the dataset**, as the majority of the labels are non-fraud (>20000) and a minority of the labels are fraud (<500). \n",
    "\n",
    "We can try to use sampling techniques to try to balance out the two labels. Here, SMOTE is a resampling technique from the Python library **imbalance-learned**. It uses the minority class in order to generate synethic observations in order to create more samples of fraudulent transactions. We can see at the end, both the metric for the recall and precision is close to zero, indicating the model is very effective."
   ]
  },
  {
   "cell_type": "code",
   "execution_count": 15,
   "id": "d69c107e",
   "metadata": {},
   "outputs": [
    {
     "data": {
      "image/png": "[encoded data removed]",
      "text/plain": [
       "<Figure size 432x288 with 2 Axes>"
      ]
     },
     "metadata": {
      "needs_background": "light"
     },
     "output_type": "display_data"
    },
    {
     "name": "stdout",
     "output_type": "stream",
     "text": [
      "Recall: 1.00\n",
      "Precision: 0.94\n",
      "F1-score: 0.97\n"
     ]
    }
   ],
   "source": [
    "from imblearn.over_sampling import SMOTE\n",
    "\n",
    "oversample = SMOTE()\n",
    "# oversample the fraud class and generate new dataset with syntheic observations\n",
    "over_feat, over_labels = oversample.fit_resample(feat, labels)\n",
    "# split the new dataset to a training and testing set\n",
    "over_feat_train, over_feat_test, over_labels_train, over_labels_test = train_test_split(over_feat, over_labels)\n",
    "\n",
    "#Build SMOTE Random Forest model\n",
    "SMOTE_RF = RandomForestClassifier(random_state=0)\n",
    "SMOTE_RF = SMOTE_RF.fit(over_feat_train, over_labels_train)\n",
    "\n",
    "# we want to test on the real transactions\n",
    "labels_pred = SMOTE_RF.predict(feat_test)\n",
    "\n",
    "# confusion matrix\n",
    "cm = confusion_matrix(labels_test, labels_pred)\n",
    "\n",
    "# display confusion matrix\n",
    "cmd_obj = ConfusionMatrixDisplay(cm, display_labels=['Not Fraud', 'Fraud'])\n",
    "cmd_obj.plot()\n",
    "plt.show()\n",
    "\n",
    "# print metrics\n",
    "print(\"Recall: {:.2f}\".format( recall_score(labels_test, labels_pred)) )\n",
    "print(\"Precision: {:.2f}\".format( precision_score(labels_test, labels_pred)) )\n",
    "print(\"F1-score: {:.2f}\".format( f1_score(labels_test, labels_pred) ))\n",
    "\n"
   ]
  },
  {
   "cell_type": "code",
   "execution_count": null,
   "id": "3ce2ba22",
   "metadata": {},
   "outputs": [],
   "source": []
  }
 ],
 "metadata": {
  "kernelspec": {
   "display_name": "Python 3 (ipykernel)",
   "language": "python",
   "name": "python3"
  },
  "language_info": {
   "codemirror_mode": {
    "name": "ipython",
    "version": 3
   },
   "file_extension": ".py",
   "mimetype": "text/x-python",
   "name": "python",
   "nbconvert_exporter": "python",
   "pygments_lexer": "ipython3",
   "version": "3.9.7"
  }
 },
 "nbformat": 4,
 "nbformat_minor": 5
}
